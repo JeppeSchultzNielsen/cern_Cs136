{
 "cells": [
  {
   "cell_type": "code",
   "execution_count": 414,
   "id": "ac0c36d6",
   "metadata": {},
   "outputs": [],
   "source": [
    "import numpy as np\n",
    "import matplotlib.pyplot as plt\n",
    "from scipy.optimize import curve_fit\n",
    "import math as math\n",
    "from scipy.optimize import minimize\n",
    "import scipy.stats as ss\n",
    "from scipy.signal import find_peaks \n",
    "from matplotlib import rc\n",
    "from scipy.optimize import fsolve\n",
    "\n",
    "SMALL_SIZE = 16\n",
    "MEDIUM_SIZE = 18\n",
    "BIGGER_SIZE = 24\n",
    "\n",
    "plt.rc('text', usetex=True)\n",
    "plt.rc('font', family='serif')\n",
    "plt.rc('font', size=SMALL_SIZE)          # controls default text sizes\n",
    "plt.rc('axes', titlesize=BIGGER_SIZE)     # fontsize of the axes title\n",
    "plt.rc('axes', labelsize=MEDIUM_SIZE)    # fontsize of the x and y labels\n",
    "plt.rc('xtick', labelsize=SMALL_SIZE)    # fontsize of the tick labels\n",
    "plt.rc('ytick', labelsize=SMALL_SIZE)    # fontsize of the tick labels\n",
    "plt.rc('legend', fontsize=SMALL_SIZE)    # legend fontsize\n",
    "plt.rc('figure', titlesize=BIGGER_SIZE)  # fontsize of the figure title"
   ]
  },
  {
   "cell_type": "code",
   "execution_count": 484,
   "id": "9a1ec3a9",
   "metadata": {},
   "outputs": [],
   "source": [
    "dt1 = 2500\n",
    "t21 = 39900-dt1\n",
    "\n",
    "data = np.transpose(np.loadtxt('t1:3000t2:'+str(t21)+'dt:'+str(dt1)+'betaGate:0.txt'))\n",
    "energies = data[0]\n",
    "early = 4*data[1]\n",
    "late = 4*data[2]\n",
    "earlyDirect = data[3]\n",
    "earlyBackground = data[4]\n",
    "lateDirect = data[5]\n",
    "lateBackground = data[6]"
   ]
  },
  {
   "cell_type": "code",
   "execution_count": 485,
   "id": "ae44d547",
   "metadata": {},
   "outputs": [
    {
     "data": {
      "text/plain": [
       "818.0"
      ]
     },
     "execution_count": 485,
     "metadata": {},
     "output_type": "execute_result"
    }
   ],
   "source": [
    "energies[3]"
   ]
  },
  {
   "cell_type": "code",
   "execution_count": 486,
   "id": "81586710",
   "metadata": {},
   "outputs": [
    {
     "data": {
      "text/plain": [
       "790.827268"
      ]
     },
     "execution_count": 486,
     "metadata": {},
     "output_type": "execute_result"
    }
   ],
   "source": [
    "early818 = earlyDirect[3]-4*earlyBackground[3]\n",
    "early818"
   ]
  },
  {
   "cell_type": "code",
   "execution_count": 487,
   "id": "99db5b93",
   "metadata": {},
   "outputs": [
    {
     "data": {
      "text/plain": [
       "617.2248"
      ]
     },
     "execution_count": 487,
     "metadata": {},
     "output_type": "execute_result"
    }
   ],
   "source": [
    "late818 = lateDirect[3]-4*lateBackground[3]\n",
    "late818"
   ]
  },
  {
   "cell_type": "code",
   "execution_count": 488,
   "id": "792008b3",
   "metadata": {},
   "outputs": [],
   "source": [
    "popt = np.array([ 368.4981873 , -321.9749353 ,   99.85602087,  -12.92620028, 0.60700302])\n",
    "def eff(x,a,b,c,d,e):\n",
    "    return (a+b*np.log(x)+c*np.log(x)**2+d*np.log(x)**3+e*np.log(x)**4)/x"
   ]
  },
  {
   "cell_type": "code",
   "execution_count": 489,
   "id": "ddb2b16a",
   "metadata": {},
   "outputs": [
    {
     "data": {
      "text/plain": [
       "0.0001799035506274476"
      ]
     },
     "execution_count": 489,
     "metadata": {},
     "output_type": "execute_result"
    }
   ],
   "source": [
    "lambda1 = np.log(2)/(13.04*24*60*60)\n",
    "lambda1err = lambda1*np.sqrt(0.03/13.04)\n",
    "lambda2 = np.log(2)/17.5\n",
    "lambda2err = lambda2*0.001\n",
    "\n",
    "Ig818 = 0.9970\n",
    "N0 = 44472.820695352544*2 / eff(518.5,*popt) / lambda2\n",
    "N0err = N0*np.sqrt(1/(44472.820695352544*2) + (lambda2err/lambda2)**2)\n",
    "dt = dt1/1000\n",
    "t1 = 0\n",
    "t2 = dt\n",
    "t3 = 39.9-dt-3\n",
    "t4 = 39.9-3\n",
    "\n",
    "\n",
    "upper = early818 - late818\n",
    "upperErr = np.sqrt(early818 + late818)\n",
    "\n",
    "lower = eff(818.5,*popt) * N0 * ( (np.exp(-lambda2*t4) - (-lambda2*t3)) - (np.exp(-lambda2*t2) - (-lambda2*t1)) )\n",
    "lowerErr1 = np.sqrt( (np.exp(-lambda2*t4)*(t4*lambda2err))**2 + (np.exp(-lambda2*t3)*(t3*lambda2err))**2 + (np.exp(-lambda2*t2)*(t2*lambda2err))**2 + (np.exp(-lambda2*t1)*(t1*lambda2err))**2)\n",
    "lowerErr2 = np.sqrt(N0)\n",
    "lowerErr = lower*np.sqrt(1/N0 + (lowerErr1/((np.exp(-lambda2*t4) - (-lambda2*t3)) - (np.exp(-lambda2*t2) - (-lambda2*t1))))**2)\n",
    "\n",
    "\n",
    "add = lambda1/lambda2 * Ig818\n",
    "\n",
    "result = upper/lower + add\n",
    "err = result*np.sqrt((upperErr/upper)**2 + (lowerErr/lower)**2)\n",
    "result"
   ]
  },
  {
   "cell_type": "code",
   "execution_count": 499,
   "id": "7ac94a46",
   "metadata": {},
   "outputs": [
    {
     "name": "stderr",
     "output_type": "stream",
     "text": [
      "/tmp/ipykernel_60901/725085032.py:29: RuntimeWarning: invalid value encountered in sqrt\n",
      "  upperDirectError = np.sqrt(earlyDirect[3]+4*earlyBackground[3]+4*lateBackground[3]+lateDirect[3])\n"
     ]
    }
   ],
   "source": [
    "fittedResults = []\n",
    "fittedErrs = []\n",
    "directResults = []\n",
    "directErrs = []\n",
    "\n",
    "for i in range(125):\n",
    "    if(i == 0): continue\n",
    "    dt1 = i*100\n",
    "    t21 = 39900-i*100\n",
    "\n",
    "    data = np.transpose(np.loadtxt('t1:3000t2:'+str(t21)+'dt:'+str(dt1)+'betaGate:0.txt'))\n",
    "    energies = data[0]\n",
    "    early = 4*data[1]\n",
    "    late = 4*data[2]\n",
    "    earlyDirect = data[3]\n",
    "    earlyBackground = data[4]\n",
    "    lateDirect = data[5]\n",
    "    lateBackground = data[6]\n",
    "    dt = dt1/1000\n",
    "    t1 = 0\n",
    "    t2 = dt\n",
    "    t3 = 39.9-dt-3\n",
    "    t4 = 39.9-3\n",
    "\n",
    "\n",
    "    upper = early818 - late818\n",
    "    upperDirect = earlyDirect[3]-4*earlyBackground[3]-(lateDirect[3]-4*lateBackground[3])\n",
    "    upperErr = np.sqrt(early818 + late818)\n",
    "    upperDirectError = np.sqrt(earlyDirect[3]+4*earlyBackground[3]+4*lateBackground[3]+lateDirect[3])\n",
    "\n",
    "    lower = eff(818.5,*popt) * N0 * ( (np.exp(-lambda2*t4) - (-lambda2*t3)) - (np.exp(-lambda2*t2) - (-lambda2*t1)) )\n",
    "    lowerErr1 = np.sqrt( (np.exp(-lambda2*t4)*(t4*lambda2err))**2 + (np.exp(-lambda2*t3)*(t3*lambda2err))**2 + (np.exp(-lambda2*t2)*(t2*lambda2err))**2 + (np.exp(-lambda2*t1)*(t1*lambda2err))**2)\n",
    "    lowerErr2 = np.sqrt(N0)\n",
    "    lowerErr = lower*np.sqrt(1/N0 + (lowerErr1/((np.exp(-lambda2*t4) - (-lambda2*t3)) - (np.exp(-lambda2*t2) - (-lambda2*t1))))**2)\n",
    "\n",
    "\n",
    "    add = lambda1/lambda2 * Ig818\n",
    "\n",
    "    result = upper/lower + add\n",
    "    err = result*np.sqrt((upperErr/upper)**2 + (lowerErr/lower)**2)\n",
    "    fittedResults.append(result)\n",
    "    fittedErrs.append(err)\n",
    "    \n",
    "    resultDirect = upperDirect/lower + add\n",
    "    errDirect = resultDirect*np.sqrt((upperDirectError/upper)**2 + (lowerErr/lower)**2)\n",
    "    \n",
    "    directResults.append(resultDirect)\n",
    "    directErrs.append(directErrs)"
   ]
  },
  {
   "cell_type": "code",
   "execution_count": 502,
   "id": "8ad090d6",
   "metadata": {},
   "outputs": [
    {
     "data": {
      "text/plain": [
       "Text(0.5, 1.0, 'Branching ratio with fitting')"
      ]
     },
     "execution_count": 502,
     "metadata": {},
     "output_type": "execute_result"
    },
    {
     "data": {
      "image/png": "[encoded data removed]",
      "text/plain": [
       "<Figure size 432x288 with 1 Axes>"
      ]
     },
     "metadata": {
      "needs_background": "light"
     },
     "output_type": "display_data"
    }
   ],
   "source": [
    "fig, ax = plt.subplots()\n",
    "ax.errorbar(dts,fittedResults,yerr = fittedErrs,fmt='.')\n",
    "ax.set_xlabel('Width of collection window [ms]')\n",
    "ax.set_ylabel(r'$I^m(818)$')\n",
    "ax.set_title('Branching ratio with fitting')"
   ]
  },
  {
   "cell_type": "code",
   "execution_count": null,
   "id": "c9574cb8",
   "metadata": {},
   "outputs": [],
   "source": [
    "fig, ax = plt.subplots()\n",
    "ax.errorbar(dts,directResults,yerr = directErrs,fmt='.')\n",
    "ax.set_xlabel('Width of collection window [ms]')\n",
    "ax.set_ylabel(r'$I^m(818)$')\n",
    "ax.set_title('Branching ratio with direct counting')"
   ]
  },
  {
   "cell_type": "code",
   "execution_count": 494,
   "id": "2fee1aff",
   "metadata": {},
   "outputs": [
    {
     "name": "stderr",
     "output_type": "stream",
     "text": [
      "/tmp/ipykernel_60901/1367639184.py:19: RuntimeWarning: invalid value encountered in sqrt\n",
      "  errors.append(np.sqrt(earlyDirect[3]+4*earlyBackground[3]+4*lateBackground[3]+lateDirect[3]))\n"
     ]
    }
   ],
   "source": [
    "merits = []\n",
    "errors = []\n",
    "dts = []\n",
    "fittedmerits = []\n",
    "fittedErrors = []\n",
    "\n",
    "for i in range(125):\n",
    "    if(i == 0): continue\n",
    "    data = np.transpose(np.loadtxt('t1:3000t2:'+str(39900-100*i)+'dt:' +str(i*100)+'betaGate:0.txt'))\n",
    "    early = 4*data[1]\n",
    "    late = 4*data[2]\n",
    "    earlyDirect = data[3]\n",
    "    earlyBackground = data[4]\n",
    "    lateDirect = data[5]\n",
    "    lateBackground = data[6]\n",
    "    merit = earlyDirect[3]-4*earlyBackground[3]-(lateDirect[3]-4*lateBackground[3])#*np.sqrt(early[3] + late[3])\n",
    "    merits.append(merit)\n",
    "    dts.append(i*100)\n",
    "    errors.append(np.sqrt(earlyDirect[3]+4*earlyBackground[3]+4*lateBackground[3]+lateDirect[3]))\n",
    "    fittedmerits.append(early[3]-late[3])\n",
    "    fittedErrors.append(np.sqrt(early[3]+late[3]))"
   ]
  },
  {
   "cell_type": "code",
   "execution_count": 495,
   "id": "a527ab3e",
   "metadata": {},
   "outputs": [
    {
     "data": {
      "text/plain": [
       "Text(0.5, 1.0, 'Differences with fitting')"
      ]
     },
     "execution_count": 495,
     "metadata": {},
     "output_type": "execute_result"
    },
    {
     "data": {
      "image/png": "[encoded data removed]",
      "text/plain": [
       "<Figure size 432x288 with 1 Axes>"
      ]
     },
     "metadata": {
      "needs_background": "light"
     },
     "output_type": "display_data"
    }
   ],
   "source": [
    "fig, ax = plt.subplots()\n",
    "ax.errorbar(dts,merits,yerr = errors,fmt='.')\n",
    "ax.set_ylim(-100,100)\n",
    "ax.set_xlabel('Width of collection window [ms]')\n",
    "ax.set_ylabel(r'$N_{818}^{early}-N_{818}^{late}$')\n",
    "ax.set_title('Differences with fitting')"
   ]
  },
  {
   "cell_type": "code",
   "execution_count": 497,
   "id": "c9cc4be9",
   "metadata": {},
   "outputs": [
    {
     "data": {
      "text/plain": [
       "Text(0.5, 1.0, 'Differences with \"direct counting\"')"
      ]
     },
     "execution_count": 497,
     "metadata": {},
     "output_type": "execute_result"
    },
    {
     "data": {
      "image/png": "[encoded data removed]",
      "text/plain": [
       "<Figure size 432x288 with 1 Axes>"
      ]
     },
     "metadata": {
      "needs_background": "light"
     },
     "output_type": "display_data"
    }
   ],
   "source": [
    "fig, ax = plt.subplots()\n",
    "ax.errorbar(dts,fittedmerits,yerr = fittedErrors,fmt='.')\n",
    "ax.set_ylim(-100,100)\n",
    "ax.set_xlabel('Width of collection window [ms]')\n",
    "ax.set_ylabel(r'$N_{818}^{early}-N_{818}^{late}$')\n",
    "ax.set_title('Differences with \"direct counting\"')"
   ]
  },
  {
   "cell_type": "code",
   "execution_count": 479,
   "id": "6c36f5e7",
   "metadata": {},
   "outputs": [
    {
     "data": {
      "text/plain": [
       "[0.7521599999999999,\n",
       " 401.0928,\n",
       " 9.863200000000006,\n",
       " 1.6540000000000106,\n",
       " 9.768799999999999,\n",
       " 16.488399999999984,\n",
       " 22.552400000000006,\n",
       " 20.875199999999978,\n",
       " 31.801199999999994,\n",
       " 27.821200000000005,\n",
       " 26.105999999999995,\n",
       " 25.562400000000025,\n",
       " 27.314800000000048,\n",
       " 16.343199999999968,\n",
       " 15.365200000000016,\n",
       " 14.479999999999961,\n",
       " 21.451999999999998,\n",
       " 25.519999999999982,\n",
       " 28.887999999999977,\n",
       " 17.216000000000008,\n",
       " 19.408000000000015,\n",
       " 26.58000000000004,\n",
       " 33.62800000000004,\n",
       " 31.855999999999995,\n",
       " 36.76400000000001,\n",
       " 48.19599999999991,\n",
       " 34.860000000000014,\n",
       " 38.75999999999999,\n",
       " 31.912000000000035,\n",
       " 43.16399999999999,\n",
       " 41.46799999999996,\n",
       " 40.819999999999936,\n",
       " 38.752000000000066,\n",
       " 24.55200000000002,\n",
       " 13.104000000000042,\n",
       " 16.540000000000077,\n",
       " 14.692000000000007,\n",
       " 15.539999999999964,\n",
       " -1.8759999999999764,\n",
       " -0.35199999999997544,\n",
       " -2.2159999999998945,\n",
       " 6.948000000000093,\n",
       " 2.2639999999998963,\n",
       " 7.41599999999994,\n",
       " 0.5360000000000582,\n",
       " -3.5960000000000036,\n",
       " -3.1720000000000255,\n",
       " -7.667999999999893,\n",
       " -25.815999999999804,\n",
       " -23.42800000000011,\n",
       " -16.64800000000014,\n",
       " -28.060000000000173,\n",
       " -31.311999999999898,\n",
       " -45.391999999999825,\n",
       " -53.13200000000006,\n",
       " -57.36799999999994,\n",
       " -57.791999999999916,\n",
       " -61.848000000000184,\n",
       " -71.96800000000007,\n",
       " -75.84799999999996,\n",
       " -81.05199999999991,\n",
       " -80.50800000000004,\n",
       " -59.70400000000018,\n",
       " -66.68000000000006,\n",
       " -79.42399999999998,\n",
       " -64.68000000000006,\n",
       " -63.03599999999983,\n",
       " -52.83199999999988,\n",
       " -60.05600000000004,\n",
       " -72.60799999999995,\n",
       " -65.15200000000004,\n",
       " -64.91599999999994,\n",
       " -59.1400000000001,\n",
       " -72.82399999999984,\n",
       " -65.39599999999996,\n",
       " -56.284000000000106,\n",
       " -49.292000000000144,\n",
       " -43.903999999999996,\n",
       " -34.19200000000001,\n",
       " -28.067999999999984,\n",
       " -21.99200000000019,\n",
       " -25.080000000000155,\n",
       " -28.68399999999974,\n",
       " -32.28800000000001,\n",
       " -46.820000000000164,\n",
       " -49.483999999999924,\n",
       " -30.924000000000433,\n",
       " -23.200000000000273,\n",
       " -26.77599999999984,\n",
       " -20.61200000000008,\n",
       " -12.032000000000153,\n",
       " -24.68000000000029,\n",
       " -32.072000000000116,\n",
       " -42.36000000000013,\n",
       " -48.17599999999993,\n",
       " -55.284000000000106,\n",
       " -47.97199999999975,\n",
       " -50.096000000000004,\n",
       " -49.02000000000044,\n",
       " -53.71199999999999,\n",
       " -40.327999999999975,\n",
       " -42.25599999999986,\n",
       " -41.08800000000019,\n",
       " -28.56399999999985,\n",
       " -22.639999999999873,\n",
       " -24.371999999999844,\n",
       " -27.264000000000124,\n",
       " -16.61999999999989,\n",
       " -12.2800000000002,\n",
       " -12.524000000000342,\n",
       " -0.06400000000030559,\n",
       " -2.8159999999998035,\n",
       " -2.992000000000189,\n",
       " -5.211999999999989,\n",
       " -4.563999999999851,\n",
       " 1.6359999999999673,\n",
       " 3.4320000000002437,\n",
       " -7.8159999999998035,\n",
       " -21.220000000000255,\n",
       " -19.935999999999694,\n",
       " -22.172000000000025,\n",
       " -22.379999999999654,\n",
       " -30.475999999999658,\n",
       " -25.440000000000055]"
      ]
     },
     "execution_count": 479,
     "metadata": {},
     "output_type": "execute_result"
    }
   ],
   "source": [
    "fittedmerits"
   ]
  },
  {
   "cell_type": "code",
   "execution_count": 481,
   "id": "223aaac2",
   "metadata": {},
   "outputs": [
    {
     "data": {
      "text/plain": [
       "[2.728936000000001,\n",
       " 1612.0362400000001,\n",
       " 12.760959999999997,\n",
       " 3.7496399999999994,\n",
       " 12.682400000000001,\n",
       " 20.37379999999999,\n",
       " 29.384119999999996,\n",
       " 26.94756000000001,\n",
       " 38.15024,\n",
       " 35.49359999999999,\n",
       " 32.8064,\n",
       " 37.84359999999998,\n",
       " 39.93599999999998,\n",
       " 28.674000000000035,\n",
       " 25.997599999999977,\n",
       " 26.675200000000018,\n",
       " 32.85919999999999,\n",
       " 37.0068,\n",
       " 40.64999999999998,\n",
       " 31.119199999999978,\n",
       " 36.10640000000001,\n",
       " 42.71799999999996,\n",
       " 49.118799999999965,\n",
       " 46.77240000000006,\n",
       " 54.139999999999986,\n",
       " 64.39160000000004,\n",
       " 44.47760000000005,\n",
       " 42.92840000000001,\n",
       " 37.113200000000006,\n",
       " 49.98519999999996,\n",
       " 47.39080000000001,\n",
       " 53.902000000000044,\n",
       " 51.97239999999999,\n",
       " 36.997600000000034,\n",
       " 25.19240000000002,\n",
       " 29.103200000000015,\n",
       " 26.708799999999997,\n",
       " 29.527599999999893,\n",
       " 14.329600000000028,\n",
       " 15.274400000000014,\n",
       " 11.758399999999938,\n",
       " 20.90079999999989,\n",
       " 14.491999999999962,\n",
       " 17.48160000000007,\n",
       " 14.241999999999962,\n",
       " 8.90079999999989,\n",
       " 10.75240000000008,\n",
       " 4.705600000000004,\n",
       " -11.772799999999961,\n",
       " -9.546400000000176,\n",
       " -3.7527999999999793,\n",
       " -15.51480000000015,\n",
       " -20.2496000000001,\n",
       " -56.006399999999985,\n",
       " -42.2192,\n",
       " -44.53800000000001,\n",
       " -45.43599999999992,\n",
       " -47.174800000000005,\n",
       " -58.3112000000001,\n",
       " -61.29359999999997,\n",
       " -71.65280000000007,\n",
       " -67.04520000000002,\n",
       " -35.99000000000001,\n",
       " -39.47119999999995,\n",
       " -53.534400000000005,\n",
       " -37.552799999999934,\n",
       " -36.6099999999999,\n",
       " -25.919999999999845,\n",
       " -32.177999999999884,\n",
       " -45.052799999999934,\n",
       " -39.6235999999999,\n",
       " -38.81119999999987,\n",
       " -34.40119999999979,\n",
       " -49.06920000000014,\n",
       " -41.940399999999954,\n",
       " -34.03320000000008,\n",
       " -27.049199999999928,\n",
       " -26.165199999999913,\n",
       " -15.632000000000062,\n",
       " -1.0568000000000666,\n",
       " -4.008800000000065,\n",
       " -7.815200000000004,\n",
       " -11.783600000000206,\n",
       " -12.706000000000131,\n",
       " -25.36999999999989,\n",
       " -27.254799999999705,\n",
       " -8.17599999999993,\n",
       " 0.1679999999996653,\n",
       " -5.789600000000064,\n",
       " -0.7851999999998043,\n",
       " 3.7296000000001186,\n",
       " -9.703999999999724,\n",
       " -19.20400000000018,\n",
       " -31.159999999999854,\n",
       " -36.56399999999985,\n",
       " -42.50799999999981,\n",
       " -34.82400000000007,\n",
       " -37.108000000000175,\n",
       " -37.455999999999676,\n",
       " -38.64800000000014,\n",
       " -28.132000000000062,\n",
       " -29.04399999999987,\n",
       " -27.45199999999977,\n",
       " -15.784000000000106,\n",
       " -9.447999999999865,\n",
       " -10.527999999999793,\n",
       " -12.759999999999764,\n",
       " -1.7600000000002183,\n",
       " 1.7519999999999527,\n",
       " 3.043999999999869,\n",
       " 15.38799999999992,\n",
       " 14.503999999999905,\n",
       " 14.115999999999985,\n",
       " 11.676000000000386,\n",
       " 12.900000000000091,\n",
       " 20.04399999999987,\n",
       " 22.791999999999916,\n",
       " 11.519999999999982,\n",
       " -2.39200000000028,\n",
       " -0.9239999999999782,\n",
       " -4.05600000000004,\n",
       " -6.179999999999836,\n",
       " -13.731999999999971,\n",
       " -9.912000000000262]"
      ]
     },
     "execution_count": 481,
     "metadata": {},
     "output_type": "execute_result"
    }
   ],
   "source": [
    "merits"
   ]
  },
  {
   "cell_type": "code",
   "execution_count": 260,
   "id": "5a3e3752",
   "metadata": {},
   "outputs": [],
   "source": [
    "def r818m(t,lambdam,N0m,BR):\n",
    "    return BR*lambdam*N0m*np.exp(-lambdam*t)\n",
    "\n",
    "def r818g(t,lambdam,lambdag,N0m,N0g,BR):\n",
    "    return 0.997*lambdag*(N0g*np.exp(-lambdag*t)+1*N0m*(np.exp(-lambdag*t)-np.exp(-lambdam*t)))\n",
    "\n",
    "def r818t(t,lambdam,lambdag,N0m,N0g,BR):\n",
    "    return r818m(t,lambdam,N0m,BR) + r818g(t,lambdam,lambdag,N0m,N0g,BR)"
   ]
  },
  {
   "cell_type": "code",
   "execution_count": 280,
   "id": "3b381338",
   "metadata": {},
   "outputs": [
    {
     "data": {
      "text/plain": [
       "[<matplotlib.lines.Line2D at 0x7fb749c39df0>]"
      ]
     },
     "execution_count": 280,
     "metadata": {},
     "output_type": "execute_result"
    },
    {
     "data": {
      "image/png": "[encoded data removed]",
      "text/plain": [
       "<Figure size 432x288 with 1 Axes>"
      ]
     },
     "metadata": {
      "needs_background": "light"
     },
     "output_type": "display_data"
    }
   ],
   "source": [
    "lambdag = np.log(2)/(13.04*24*60*60)\n",
    "lambdam = np.log(2)/17.5\n",
    "N0m = 44472.820695352544*2 / eff(518.5,*popt) / lambda2\n",
    "N0g = N0m/10\n",
    "\n",
    "timespace = np.linspace(0,200,1000)\n",
    "\n",
    "plt.plot(timespace,r818t(timespace,lambdam,lambdag,N0m,N0g,0.1))\n",
    "plt.plot(timespace,r818t(timespace,lambdam,lambdag,N0m,N0g,0.01))\n",
    "plt.plot(timespace,r818t(timespace,lambdam,lambdag,N0m,N0g,0.001))"
   ]
  },
  {
   "cell_type": "code",
   "execution_count": 284,
   "id": "50277a3d",
   "metadata": {},
   "outputs": [
    {
     "data": {
      "text/plain": [
       "[<matplotlib.lines.Line2D at 0x7fb749b9f2e0>]"
      ]
     },
     "execution_count": 284,
     "metadata": {},
     "output_type": "execute_result"
    },
    {
     "data": {
      "image/png": "[encoded data removed]",
      "text/plain": [
       "<Figure size 432x288 with 1 Axes>"
      ]
     },
     "metadata": {
      "needs_background": "light"
     },
     "output_type": "display_data"
    }
   ],
   "source": [
    "plt.plot(timespace,r818t(timespace,lambdam,lambdag,N0m,N0g,1e-5))"
   ]
  },
  {
   "cell_type": "code",
   "execution_count": 356,
   "id": "36f0642e",
   "metadata": {},
   "outputs": [],
   "source": [
    "import scipy.integrate as integrate\n",
    "result = integrate.quad(lambda x: r818t(x,lambdam,lambdag,N0m,N0g,1e-3),t1,t2)\n",
    "result2 = integrate.quad(lambda x: r818t(x,lambdam,lambdag,N0m,N0g,1e-3),t3,t4)"
   ]
  },
  {
   "cell_type": "code",
   "execution_count": 357,
   "id": "004d9d77",
   "metadata": {},
   "outputs": [
    {
     "data": {
      "text/plain": [
       "(9758.42015334188, 1.0834022738206306e-10)"
      ]
     },
     "execution_count": 357,
     "metadata": {},
     "output_type": "execute_result"
    }
   ],
   "source": [
    "result"
   ]
  },
  {
   "cell_type": "code",
   "execution_count": 358,
   "id": "b328d9b3",
   "metadata": {},
   "outputs": [
    {
     "data": {
      "text/plain": [
       "(3058.648517981309, 3.3957820088984614e-11)"
      ]
     },
     "execution_count": 358,
     "metadata": {},
     "output_type": "execute_result"
    }
   ],
   "source": [
    "result2"
   ]
  },
  {
   "cell_type": "code",
   "execution_count": 345,
   "id": "1c530411",
   "metadata": {},
   "outputs": [
    {
     "data": {
      "text/plain": [
       "134.49571703726397"
      ]
     },
     "execution_count": 345,
     "metadata": {},
     "output_type": "execute_result"
    }
   ],
   "source": [
    "part1 = 1e-5*(-N0m*(np.exp(-lambdam*t2) - np.exp(-lambdam*t1)))\n",
    "part21 = N0g*(np.exp(-lambdag*t2)-np.exp(-lambdag*t1))\n",
    "part22 = N0m*((np.exp(-lambdag*t2)-np.exp(-lambdag*t1))-lambdag/lambdam*(np.exp(-lambdam*t2)-np.exp(-lambdam*t1)))\n",
    "result = part1 - 0.997*(part21+part22)\n",
    "result"
   ]
  },
  {
   "cell_type": "code",
   "execution_count": 346,
   "id": "8b746126",
   "metadata": {},
   "outputs": [
    {
     "data": {
      "text/plain": [
       "171.82591084788442"
      ]
     },
     "execution_count": 346,
     "metadata": {},
     "output_type": "execute_result"
    }
   ],
   "source": [
    "part1 = 1e-5*(-N0m*(np.exp(-lambdam*t4) - np.exp(-lambdam*t3)))\n",
    "part21 = N0g*(np.exp(-lambdag*t4)-np.exp(-lambdag*t3))\n",
    "part22 = N0m*((np.exp(-lambdag*t4)-np.exp(-lambdag*t3))-lambdag/lambdam*(np.exp(-lambdam*t4)-np.exp(-lambdam*t3)))\n",
    "result = part1 - 0.997*(part21+part22)\n",
    "result"
   ]
  },
  {
   "cell_type": "code",
   "execution_count": 359,
   "id": "db9235ca",
   "metadata": {},
   "outputs": [
    {
     "data": {
      "text/plain": [
       "-0.0023132246140836503"
      ]
     },
     "execution_count": 359,
     "metadata": {},
     "output_type": "execute_result"
    }
   ],
   "source": [
    "(9758.42015334188-3058.648517981309)/(N0m*(np.exp(-lambdam*t4)-np.exp(-lambdam*t3) - ( np.exp(-lambdag*t2)-np.exp(-lambdag*t1))))-lambdag/lambdam*0.997"
   ]
  },
  {
   "cell_type": "code",
   "execution_count": 375,
   "id": "84cf922c",
   "metadata": {},
   "outputs": [
    {
     "data": {
      "text/plain": [
       "134.49609259377377"
      ]
     },
     "execution_count": 375,
     "metadata": {},
     "output_type": "execute_result"
    }
   ],
   "source": [
    "part1 = 1e-5*(-N0m*(np.exp(-lambdam*t2) - np.exp(-lambdam*t1)))\n",
    "part21 = N0g*(lambdag*t2+lambdag*t1)\n",
    "part22 = N0m*((lambdag*t2-lambdag*t1)+lambdag/lambdam*(np.exp(-lambdam*t2)-np.exp(-lambdam*t1)))\n",
    "result = part1 + 0.997*(part21+part22)\n",
    "result"
   ]
  },
  {
   "cell_type": "code",
   "execution_count": 374,
   "id": "07d96b8c",
   "metadata": {},
   "outputs": [
    {
     "data": {
      "text/plain": [
       "171.82979926756235"
      ]
     },
     "execution_count": 374,
     "metadata": {},
     "output_type": "execute_result"
    }
   ],
   "source": [
    "part1 = 1e-5*(-N0m*(np.exp(-lambdam*t4) - np.exp(-lambdam*t3)))\n",
    "part21 = N0g*(lambdag*t4-lambdag*t3)\n",
    "part22 = N0m*((lambdag*t4-lambdag*t3)+lambdag/lambdam*(np.exp(-lambdam*t4)-np.exp(-lambdam*t3)))\n",
    "result = part1 + 0.997*(part21+part22)\n",
    "result"
   ]
  },
  {
   "cell_type": "code",
   "execution_count": 379,
   "id": "d175ffdb",
   "metadata": {},
   "outputs": [
    {
     "data": {
      "text/plain": [
       "-37.3337066737887"
      ]
     },
     "execution_count": 379,
     "metadata": {},
     "output_type": "execute_result"
    }
   ],
   "source": [
    "N0m*( (np.exp(-lambdam*t4)-np.exp(-lambdam*t3)) - (np.exp(-lambdam*t2)-np.exp(-lambdam*t1)))*(1e-5 - lambdag/lambdam * 0.997)"
   ]
  },
  {
   "cell_type": "code",
   "execution_count": 391,
   "id": "368cc613",
   "metadata": {},
   "outputs": [
    {
     "data": {
      "text/plain": [
       "-0.000137762713816372"
      ]
     },
     "execution_count": 391,
     "metadata": {},
     "output_type": "execute_result"
    }
   ],
   "source": [
    "-37.3337066737887/(eff(818.5,*popt)*N0m*( (np.exp(-lambdam*t4)-np.exp(-lambdam*t3)) - (np.exp(-lambdam*t2)-np.exp(-lambdam*t1))))+lambdag/lambdam * 0.997"
   ]
  },
  {
   "cell_type": "code",
   "execution_count": 384,
   "id": "62e51560",
   "metadata": {},
   "outputs": [
    {
     "data": {
      "text/plain": [
       "0.03579860398632065"
      ]
     },
     "execution_count": 384,
     "metadata": {},
     "output_type": "execute_result"
    }
   ],
   "source": [
    "eff(818.5,*popt)"
   ]
  },
  {
   "cell_type": "code",
   "execution_count": null,
   "id": "91643f3d",
   "metadata": {},
   "outputs": [],
   "source": []
  }
 ],
 "metadata": {
  "kernelspec": {
   "display_name": "Python 3 (ipykernel)",
   "language": "python",
   "name": "python3"
  },
  "language_info": {
   "codemirror_mode": {
    "name": "ipython",
    "version": 3
   },
   "file_extension": ".py",
   "mimetype": "text/x-python",
   "name": "python",
   "nbconvert_exporter": "python",
   "pygments_lexer": "ipython3",
   "version": "3.9.7"
  }
 },
 "nbformat": 4,
 "nbformat_minor": 5
}
