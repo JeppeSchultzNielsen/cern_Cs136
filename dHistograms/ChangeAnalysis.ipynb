{
 "cells": [
  {
   "cell_type": "code",
   "execution_count": 149,
   "id": "ac0c36d6",
   "metadata": {},
   "outputs": [],
   "source": [
    "import numpy as np\n",
    "import matplotlib.pyplot as plt\n",
    "from scipy.optimize import curve_fit\n",
    "import math as math\n",
    "from scipy.optimize import minimize\n",
    "import scipy.stats as ss\n",
    "from scipy.signal import find_peaks \n",
    "from matplotlib import rc\n",
    "from scipy.optimize import fsolve\n",
    "\n",
    "SMALL_SIZE = 16\n",
    "MEDIUM_SIZE = 18\n",
    "BIGGER_SIZE = 24\n",
    "\n",
    "plt.rc('text', usetex=True)\n",
    "plt.rc('font', family='serif')\n",
    "plt.rc('font', size=SMALL_SIZE)          # controls default text sizes\n",
    "plt.rc('axes', titlesize=BIGGER_SIZE)     # fontsize of the axes title\n",
    "plt.rc('axes', labelsize=MEDIUM_SIZE)    # fontsize of the x and y labels\n",
    "plt.rc('xtick', labelsize=SMALL_SIZE)    # fontsize of the tick labels\n",
    "plt.rc('ytick', labelsize=SMALL_SIZE)    # fontsize of the tick labels\n",
    "plt.rc('legend', fontsize=SMALL_SIZE)    # legend fontsize\n",
    "plt.rc('figure', titlesize=BIGGER_SIZE)  # fontsize of the figure title"
   ]
  },
  {
   "cell_type": "code",
   "execution_count": 150,
   "id": "9a1ec3a9",
   "metadata": {},
   "outputs": [],
   "source": [
    "dt1 = 2500\n",
    "t21 = 39900-dt1\n",
    "\n",
    "data = np.transpose(np.loadtxt('t1:3000t2:'+str(t21)+'dt:'+str(dt1)+'betaGate:0.txt'))\n",
    "energies = data[0]\n",
    "early = 4*data[1]\n",
    "late = 4*data[2]\n",
    "earlyDirect = data[3]\n",
    "earlyBackground = data[4]\n",
    "lateDirect = data[5]\n",
    "lateBackground = data[6]"
   ]
  },
  {
   "cell_type": "code",
   "execution_count": 151,
   "id": "ae44d547",
   "metadata": {},
   "outputs": [
    {
     "data": {
      "text/plain": [
       "818.0"
      ]
     },
     "execution_count": 151,
     "metadata": {},
     "output_type": "execute_result"
    }
   ],
   "source": [
    "energies[3]"
   ]
  },
  {
   "cell_type": "code",
   "execution_count": 152,
   "id": "81586710",
   "metadata": {},
   "outputs": [
    {
     "data": {
      "text/plain": [
       "1044.2224"
      ]
     },
     "execution_count": 152,
     "metadata": {},
     "output_type": "execute_result"
    }
   ],
   "source": [
    "early818 = earlyDirect[3]-4*earlyBackground[3]\n",
    "early818"
   ]
  },
  {
   "cell_type": "code",
   "execution_count": 153,
   "id": "99db5b93",
   "metadata": {},
   "outputs": [
    {
     "data": {
      "text/plain": [
       "1072.7788"
      ]
     },
     "execution_count": 153,
     "metadata": {},
     "output_type": "execute_result"
    }
   ],
   "source": [
    "late818 = lateDirect[3]-4*lateBackground[3]\n",
    "late818"
   ]
  },
  {
   "cell_type": "code",
   "execution_count": 154,
   "id": "792008b3",
   "metadata": {},
   "outputs": [],
   "source": [
    "popt = np.array([ 368.4981873 , -321.9749353 ,   99.85602087,  -12.92620028, 0.60700302])\n",
    "def eff(x,a,b,c,d,e):\n",
    "    return (a+b*np.log(x)+c*np.log(x)**2+d*np.log(x)**3+e*np.log(x)**4)/x"
   ]
  },
  {
   "cell_type": "code",
   "execution_count": 155,
   "id": "ddb2b16a",
   "metadata": {},
   "outputs": [
    {
     "data": {
      "text/plain": [
       "-1.1559436181783562e-05"
      ]
     },
     "execution_count": 155,
     "metadata": {},
     "output_type": "execute_result"
    }
   ],
   "source": [
    "lambda1 = np.log(2)/(13.04*24*60*60)\n",
    "lambda1err = lambda1*np.sqrt(0.03/13.04)\n",
    "lambda2 = np.log(2)/17.5\n",
    "lambda2err = lambda2*0.001\n",
    "\n",
    "Ig818 = 0.9970\n",
    "N0 = 44472.820695352544*2 / eff(518.5,*popt) / lambda2\n",
    "N0err = N0*np.sqrt(1/(44472.820695352544*2) + (lambda2err/lambda2)**2)\n",
    "dt = dt1/1000\n",
    "t1 = 0\n",
    "t2 = dt\n",
    "t3 = 39.9-dt-3\n",
    "t4 = 39.9-3\n",
    "\n",
    "\n",
    "upper = early818 - late818\n",
    "upperErr = np.sqrt(early818 + late818)\n",
    "\n",
    "lower = eff(818.5,*popt) * N0 * ( (np.exp(-lambda2*t4) - (-lambda2*t3)) - (np.exp(-lambda2*t2) - (-lambda2*t1)) )\n",
    "lowerErr1 = np.sqrt( (np.exp(-lambda2*t4)*(t4*lambda2err))**2 + (np.exp(-lambda2*t3)*(t3*lambda2err))**2 + (np.exp(-lambda2*t2)*(t2*lambda2err))**2 + (np.exp(-lambda2*t1)*(t1*lambda2err))**2)\n",
    "lowerErr2 = np.sqrt(N0)\n",
    "lowerErr = lower*np.sqrt(1/N0 + (lowerErr1/((np.exp(-lambda2*t4) - (-lambda2*t3)) - (np.exp(-lambda2*t2) - (-lambda2*t1))))**2)\n",
    "\n",
    "\n",
    "add = lambda1/lambda2 * Ig818\n",
    "\n",
    "result = upper/lower + add\n",
    "err = result*np.sqrt((upperErr/upper)**2 + (lowerErr/lower)**2)\n",
    "result"
   ]
  },
  {
   "cell_type": "code",
   "execution_count": 171,
   "id": "7ac94a46",
   "metadata": {},
   "outputs": [],
   "source": [
    "fittedResults = []\n",
    "fittedErrs = []\n",
    "directResults = []\n",
    "directErrs = []\n",
    "dts = []\n",
    "\n",
    "for i in range(125):\n",
    "    if(i == 0): continue\n",
    "    dt1 = i*100\n",
    "    t21 = 39500-i*100\n",
    "\n",
    "    data = np.transpose(np.loadtxt('t1:3000t2:'+str(t21)+'dt:'+str(dt1)+'betaGate:0.txt'))\n",
    "    energies = data[0]\n",
    "    early = 4*data[1]\n",
    "    late = 4*data[2]\n",
    "    earlyDirect = data[3]\n",
    "    earlyBackground = data[4]\n",
    "    lateDirect = data[5]\n",
    "    lateBackground = data[6]\n",
    "    dt = dt1/1000\n",
    "    t1 = 0\n",
    "    t2 = dt\n",
    "    t3 = 39.5-dt-3\n",
    "    t4 = 39.5-3\n",
    "\n",
    "\n",
    "    upper = early[3] - late[3]\n",
    "    upperDirect = earlyDirect[3]-4*earlyBackground[3]-(lateDirect[3]-4*lateBackground[3])\n",
    "    upperErr = np.sqrt(early818 + late818)\n",
    "    upperDirectError = np.sqrt(abs(earlyDirect[3])+abs(4*earlyBackground[3])+abs(4*lateBackground[3])+abs(lateDirect[3]))\n",
    "\n",
    "    lower = eff(818.5,*popt) * N0 * ( (np.exp(-lambda2*t4) - (-lambda2*t3)) - (np.exp(-lambda2*t2) - (-lambda2*t1)) )\n",
    "    lowerErr1 = np.sqrt( (np.exp(-lambda2*t4)*(t4*lambda2err))**2 + (np.exp(-lambda2*t3)*(t3*lambda2err))**2 + (np.exp(-lambda2*t2)*(t2*lambda2err))**2 + (np.exp(-lambda2*t1)*(t1*lambda2err))**2)\n",
    "    lowerErr2 = np.sqrt(N0)\n",
    "    lowerErr = lower*np.sqrt(1/N0 + (lowerErr1/((np.exp(-lambda2*t4) - (-lambda2*t3)) - (np.exp(-lambda2*t2) - (-lambda2*t1))))**2)\n",
    "\n",
    "\n",
    "    add = lambda1/lambda2 * Ig818\n",
    "\n",
    "    result = upper/lower + add\n",
    "    err = result*np.sqrt((upperErr/upper)**2 + (lowerErr/lower)**2)\n",
    "    fittedResults.append(result)\n",
    "    fittedErrs.append(err)\n",
    "    \n",
    "    resultDirect = upperDirect/lower + add\n",
    "    errDirect = resultDirect*np.sqrt((upperDirectError/upper)**2 + (lowerErr/lower)**2)\n",
    "    directResults.append(resultDirect)\n",
    "    directErrs.append(errDirect)\n",
    "    dts.append(dt)"
   ]
  },
  {
   "cell_type": "code",
   "execution_count": 173,
   "id": "8ad090d6",
   "metadata": {},
   "outputs": [
    {
     "data": {
      "text/plain": [
       "(-0.0002, 0.0001)"
      ]
     },
     "execution_count": 173,
     "metadata": {},
     "output_type": "execute_result"
    },
    {
     "data": {
      "image/png": "[encoded data removed]",
      "text/plain": [
       "<Figure size 432x288 with 1 Axes>"
      ]
     },
     "metadata": {
      "needs_background": "light"
     },
     "output_type": "display_data"
    }
   ],
   "source": [
    "fig, ax = plt.subplots()\n",
    "ax.errorbar(dts,fittedResults,yerr = fittedErrs,fmt='.')\n",
    "ax.set_xlabel('Width of collection window [ms]')\n",
    "ax.set_ylabel(r'$I^m(818)$')\n",
    "ax.set_title(r'$I^m(818)$')\n",
    "ax.set_ylim(-0.0002,0.0001)"
   ]
  },
  {
   "cell_type": "code",
   "execution_count": 174,
   "id": "c9574cb8",
   "metadata": {},
   "outputs": [
    {
     "data": {
      "text/plain": [
       "Text(0.5, 1.0, '$I^m(818)$ with direct counting')"
      ]
     },
     "execution_count": 174,
     "metadata": {},
     "output_type": "execute_result"
    },
    {
     "data": {
      "image/png": "[encoded data removed]",
      "text/plain": [
       "<Figure size 432x288 with 1 Axes>"
      ]
     },
     "metadata": {
      "needs_background": "light"
     },
     "output_type": "display_data"
    }
   ],
   "source": [
    "fig, ax = plt.subplots()\n",
    "ax.errorbar(dts,directResults,yerr = directErrs,fmt='.')\n",
    "ax.set_xlabel('Width of collection window [ms]')\n",
    "ax.set_ylabel(r'$I^m(818)$')\n",
    "ax.set_ylim(-0.0002,0.0001)\n",
    "ax.set_title(r'$I^m(818)$ with direct counting')"
   ]
  },
  {
   "cell_type": "code",
   "execution_count": 56,
   "id": "2fee1aff",
   "metadata": {},
   "outputs": [],
   "source": [
    "merits = []\n",
    "errors = []\n",
    "dts = []\n",
    "fittedmerits = []\n",
    "fittedErrors = []\n",
    "\n",
    "for i in range(125):\n",
    "    if(i == 0): continue\n",
    "    data = np.transpose(np.loadtxt('t1:3000t2:'+str(39900-100*i)+'dt:' +str(i*100)+'betaGate:0.txt'))\n",
    "    early = 4*data[1]\n",
    "    late = 4*data[2]\n",
    "    earlyDirect = data[3]\n",
    "    earlyBackground = data[4]\n",
    "    lateDirect = data[5]\n",
    "    lateBackground = data[6]\n",
    "    merit = earlyDirect[3]-4*earlyBackground[3]-(lateDirect[3]-4*lateBackground[3])#*np.sqrt(early[3] + late[3])\n",
    "    merits.append(merit)\n",
    "    dts.append(i*100)\n",
    "    errors.append(np.sqrt(earlyDirect[3]+4*earlyBackground[3]+4*lateBackground[3]+lateDirect[3]))\n",
    "    fittedmerits.append(early[3]-late[3])\n",
    "    fittedErrors.append(np.sqrt(early[3]+late[3]))"
   ]
  },
  {
   "cell_type": "code",
   "execution_count": 57,
   "id": "47599cad",
   "metadata": {},
   "outputs": [
    {
     "data": {
      "text/plain": [
       "229.222"
      ]
     },
     "execution_count": 57,
     "metadata": {},
     "output_type": "execute_result"
    }
   ],
   "source": [
    "lateBackground[3]"
   ]
  },
  {
   "cell_type": "code",
   "execution_count": 59,
   "id": "a527ab3e",
   "metadata": {},
   "outputs": [
    {
     "data": {
      "text/plain": [
       "Text(0.5, 1.0, 'Differences')"
      ]
     },
     "execution_count": 59,
     "metadata": {},
     "output_type": "execute_result"
    },
    {
     "data": {
      "image/png": "[encoded data removed]",
      "text/plain": [
       "<Figure size 432x288 with 1 Axes>"
      ]
     },
     "metadata": {
      "needs_background": "light"
     },
     "output_type": "display_data"
    }
   ],
   "source": [
    "fig, ax = plt.subplots()\n",
    "ax.errorbar(dts,merits,yerr = errors,fmt='.')\n",
    "ax.set_ylim(-200,100)\n",
    "ax.set_xlabel('Width of collection window [ms]')\n",
    "ax.set_ylabel(r'$N_{818}^{early}-N_{818}^{late}$')\n",
    "ax.set_title('Differences')"
   ]
  },
  {
   "cell_type": "code",
   "execution_count": 60,
   "id": "c9cc4be9",
   "metadata": {},
   "outputs": [
    {
     "data": {
      "text/plain": [
       "(-200.0, 100.0)"
      ]
     },
     "execution_count": 60,
     "metadata": {},
     "output_type": "execute_result"
    },
    {
     "data": {
      "image/png": "[encoded data removed]",
      "text/plain": [
       "<Figure size 432x288 with 1 Axes>"
      ]
     },
     "metadata": {
      "needs_background": "light"
     },
     "output_type": "display_data"
    }
   ],
   "source": [
    "fig, ax = plt.subplots()\n",
    "ax.errorbar(dts,fittedmerits,yerr = fittedErrors,fmt='.')\n",
    "ax.set_xlabel('Width of collection window [ms]')\n",
    "ax.set_ylabel(r'$N_{818}^{early}-N_{818}^{late}$')\n",
    "ax.set_title('Differences with \"direct counting\"')\n",
    "ax.set_ylim(-200,100)"
   ]
  },
  {
   "cell_type": "code",
   "execution_count": null,
   "id": "6c36f5e7",
   "metadata": {},
   "outputs": [],
   "source": [
    "fittedmerits"
   ]
  },
  {
   "cell_type": "code",
   "execution_count": null,
   "id": "223aaac2",
   "metadata": {},
   "outputs": [],
   "source": [
    "merits"
   ]
  },
  {
   "cell_type": "code",
   "execution_count": 202,
   "id": "5a3e3752",
   "metadata": {},
   "outputs": [],
   "source": [
    "def r818m(t,lambdam,N0m,BR):\n",
    "    return BR*lambdam*N0m*np.exp(-lambdam*t)\n",
    "\n",
    "def r818g(t,lambdam,lambdag,N0m,N0g,BR):\n",
    "    return 0.997*lambdag*(N0g*np.exp(-lambdag*t)+1*N0m*(np.exp(-lambdag*t)-np.exp(-lambdam*t)))\n",
    "\n",
    "def r818t(t,lambdam,lambdag,N0m,N0g,BR):\n",
    "    return r818m(t,lambdam,N0m,BR) + r818g(t,lambdam,lambdag,N0m,N0g,BR)"
   ]
  },
  {
   "cell_type": "code",
   "execution_count": 231,
   "id": "3b381338",
   "metadata": {},
   "outputs": [
    {
     "data": {
      "image/png": "[encoded data removed]",
      "text/plain": [
       "<Figure size 576x432 with 1 Axes>"
      ]
     },
     "metadata": {
      "needs_background": "light"
     },
     "output_type": "display_data"
    }
   ],
   "source": [
    "lambdag = np.log(2)/(13.04*24*60*60)\n",
    "lambdam = np.log(2)/17.5\n",
    "N0m = 44472.820695352544*2 / eff(518.5,*popt) / lambda2\n",
    "N0g = N0m/0.008683206456652784\n",
    "\n",
    "timespace = np.linspace(0,40,1000)\n",
    "\n",
    "fig, ax = plt.subplots(figsize = [8,6])\n",
    "br = 0.001\n",
    "\n",
    "ax.plot(timespace,r818g(timespace,lambdam,lambdag,N0m,N0g,br),label=r'$^{136}$Cs')\n",
    "ax.plot(timespace,r818m(timespace,lambdam,N0m,br),label=r'$^{136}$Cs*')\n",
    "ax.plot(timespace,r818t(timespace,lambdam,lambdag,N0m,N0g,br),label=r'Total')\n",
    "ax.set_title(r'Contributions to 818 keV $\\gamma$-line, $I^m$(818)='+str(br))\n",
    "ax.set_ylabel('Emitted 818 keV $\\gamma$s [Bq]')\n",
    "ax.set_xlabel('Time')\n",
    "\n",
    "lowerWindow = 3\n",
    "upperWindow = 39.9\n",
    "dt = 5\n",
    "\n",
    "lowerLinspace = np.linspace(lowerWindow,lowerWindow + dt, 1000)\n",
    "upperLinspace = np.linspace(upperWindow-dt,upperWindow, 1000)\n",
    "\n",
    "import scipy.integrate as integrate\n",
    "result = integrate.quad(lambda x: r818t(x,lambdam,lambdag,N0m,N0g,br),lowerWindow,lowerWindow + dt)\n",
    "result2 = integrate.quad(lambda x: r818t(x,lambdam,lambdag,N0m,N0g,br),upperWindow-dt,upperWindow)\n",
    "\n",
    "ax.fill_between(lowerLinspace, r818t(lowerLinspace,lambdam,lambdag,N0m,N0g,br),alpha = 0.5,label=str(round(result[0]))+' events')\n",
    "ax.fill_between(upperLinspace, r818t(upperLinspace,lambdam,lambdag,N0m,N0g,br),alpha = 0.5,label=str(round(result2[0]))+' events')\n",
    "\n",
    "ax.legend();"
   ]
  },
  {
   "cell_type": "code",
   "execution_count": 204,
   "id": "50277a3d",
   "metadata": {},
   "outputs": [
    {
     "data": {
      "text/plain": [
       "[<matplotlib.lines.Line2D at 0x7f13fedf88e0>]"
      ]
     },
     "execution_count": 204,
     "metadata": {},
     "output_type": "execute_result"
    },
    {
     "data": {
      "image/png": "[encoded data removed]",
      "text/plain": [
       "<Figure size 432x288 with 1 Axes>"
      ]
     },
     "metadata": {
      "needs_background": "light"
     },
     "output_type": "display_data"
    }
   ],
   "source": [
    "plt.plot(timespace,r818t(timespace,lambdam,lambdag,N0m,N0g,1e-5))"
   ]
  },
  {
   "cell_type": "code",
   "execution_count": 192,
   "id": "36f0642e",
   "metadata": {},
   "outputs": [],
   "source": [
    "import scipy.integrate as integrate\n",
    "result = integrate.quad(lambda x: r818t(x,lambdam,lambdag,N0m,N0g,1e-5),t1,t2)\n",
    "result2 = integrate.quad(lambda x: r818t(x,lambdam,lambdag,N0m,N0g,1e-5),t3,t4)"
   ]
  },
  {
   "cell_type": "code",
   "execution_count": 193,
   "id": "004d9d77",
   "metadata": {},
   "outputs": [
    {
     "data": {
      "text/plain": [
       "(37748.46190663227, 4.190921155292878e-10)"
      ]
     },
     "execution_count": 193,
     "metadata": {},
     "output_type": "execute_result"
    }
   ],
   "source": [
    "result"
   ]
  },
  {
   "cell_type": "code",
   "execution_count": 194,
   "id": "b328d9b3",
   "metadata": {},
   "outputs": [
    {
     "data": {
      "text/plain": [
       "(37803.978533665315, 4.1970847390510395e-10)"
      ]
     },
     "execution_count": 194,
     "metadata": {},
     "output_type": "execute_result"
    }
   ],
   "source": [
    "result2"
   ]
  },
  {
   "cell_type": "code",
   "execution_count": 195,
   "id": "30fb24c7",
   "metadata": {},
   "outputs": [
    {
     "data": {
      "text/plain": [
       "-55.51662703304464"
      ]
     },
     "execution_count": 195,
     "metadata": {},
     "output_type": "execute_result"
    }
   ],
   "source": [
    "result[0]-result2[0]"
   ]
  },
  {
   "cell_type": "code",
   "execution_count": 196,
   "id": "1c530411",
   "metadata": {},
   "outputs": [
    {
     "data": {
      "text/plain": [
       "37748.461906603734"
      ]
     },
     "execution_count": 196,
     "metadata": {},
     "output_type": "execute_result"
    }
   ],
   "source": [
    "part1 = 1e-5*(-N0m*(np.exp(-lambdam*t2) - np.exp(-lambdam*t1)))\n",
    "part21 = N0g*(np.exp(-lambdag*t2)-np.exp(-lambdag*t1))\n",
    "part22 = N0m*((np.exp(-lambdag*t2)-np.exp(-lambdag*t1))-lambdag/lambdam*(np.exp(-lambdam*t2)-np.exp(-lambdam*t1)))\n",
    "result1 = part1 - 0.997*(part21+part22)\n",
    "result1"
   ]
  },
  {
   "cell_type": "code",
   "execution_count": 197,
   "id": "8b746126",
   "metadata": {},
   "outputs": [
    {
     "name": "stdout",
     "output_type": "stream",
     "text": [
      "37803.97853357973\n"
     ]
    },
    {
     "data": {
      "text/plain": [
       "-55.51662697599386"
      ]
     },
     "execution_count": 197,
     "metadata": {},
     "output_type": "execute_result"
    }
   ],
   "source": [
    "part1 = 1e-5*(-N0m*(np.exp(-lambdam*t4) - np.exp(-lambdam*t3)))\n",
    "part21 = N0g*(np.exp(-lambdag*t4)-np.exp(-lambdag*t3))\n",
    "part22 = N0m*((np.exp(-lambdag*t4)-np.exp(-lambdag*t3))-lambdag/lambdam*(np.exp(-lambdam*t4)-np.exp(-lambdam*t3)))\n",
    "result2 = part1 - 0.997*(part21+part22)\n",
    "print(result2)\n",
    "result1-result2"
   ]
  },
  {
   "cell_type": "code",
   "execution_count": 198,
   "id": "84cf922c",
   "metadata": {},
   "outputs": [
    {
     "data": {
      "text/plain": [
       "37748.60624220843"
      ]
     },
     "execution_count": 198,
     "metadata": {},
     "output_type": "execute_result"
    }
   ],
   "source": [
    "part1 = 1e-5*(-N0m*(np.exp(-lambdam*t2) - np.exp(-lambdam*t1)))\n",
    "part21 = N0g*(lambdag*t2+lambdag*t1)\n",
    "part22 = N0m*((lambdag*t2-lambdag*t1)+lambdag/lambdam*(np.exp(-lambdam*t2)-np.exp(-lambdam*t1)))\n",
    "result1 = part1 + 0.997*(part21+part22)\n",
    "result1"
   ]
  },
  {
   "cell_type": "code",
   "execution_count": 199,
   "id": "07d96b8c",
   "metadata": {},
   "outputs": [
    {
     "data": {
      "text/plain": [
       "-56.07766851292399"
      ]
     },
     "execution_count": 199,
     "metadata": {},
     "output_type": "execute_result"
    }
   ],
   "source": [
    "part1 = 1e-5*(-N0m*(np.exp(-lambdam*t4) - np.exp(-lambdam*t3)))\n",
    "part21 = N0g*(lambdag*t4-lambdag*t3)\n",
    "part22 = N0m*((lambdag*t4-lambdag*t3)+lambdag/lambdam*(np.exp(-lambdam*t4)-np.exp(-lambdam*t3)))\n",
    "result2 = part1 + 0.997*(part21+part22)\n",
    "result1-result2"
   ]
  },
  {
   "cell_type": "code",
   "execution_count": 200,
   "id": "d175ffdb",
   "metadata": {},
   "outputs": [
    {
     "data": {
      "text/plain": [
       "-56.07766851292337"
      ]
     },
     "execution_count": 200,
     "metadata": {},
     "output_type": "execute_result"
    }
   ],
   "source": [
    "dresult = N0m*( (np.exp(-lambdam*t4)-np.exp(-lambdam*t3)) - (np.exp(-lambdam*t2)-np.exp(-lambdam*t1)))*(1e-5 - lambdag/lambdam * 0.997)\n",
    "dresult"
   ]
  },
  {
   "cell_type": "code",
   "execution_count": 201,
   "id": "368cc613",
   "metadata": {},
   "outputs": [
    {
     "data": {
      "text/plain": [
       "9.946549398411973e-06"
      ]
     },
     "execution_count": 201,
     "metadata": {},
     "output_type": "execute_result"
    }
   ],
   "source": [
    "-56.62402908706474/(N0m*( (np.exp(-lambdam*t4)-np.exp(-lambdam*t3)) - (np.exp(-lambdam*t2)-np.exp(-lambdam*t1))))+lambdag/lambdam * 0.997"
   ]
  },
  {
   "cell_type": "code",
   "execution_count": null,
   "id": "62e51560",
   "metadata": {},
   "outputs": [],
   "source": [
    "eff(818.5,*popt)"
   ]
  },
  {
   "cell_type": "code",
   "execution_count": null,
   "id": "91643f3d",
   "metadata": {},
   "outputs": [],
   "source": []
  },
  {
   "cell_type": "code",
   "execution_count": null,
   "id": "95826383",
   "metadata": {},
   "outputs": [],
   "source": []
  }
 ],
 "metadata": {
  "kernelspec": {
   "display_name": "Python 3 (ipykernel)",
   "language": "python",
   "name": "python3"
  },
  "language_info": {
   "codemirror_mode": {
    "name": "ipython",
    "version": 3
   },
   "file_extension": ".py",
   "mimetype": "text/x-python",
   "name": "python",
   "nbconvert_exporter": "python",
   "pygments_lexer": "ipython3",
   "version": "3.9.7"
  }
 },
 "nbformat": 4,
 "nbformat_minor": 5
}
